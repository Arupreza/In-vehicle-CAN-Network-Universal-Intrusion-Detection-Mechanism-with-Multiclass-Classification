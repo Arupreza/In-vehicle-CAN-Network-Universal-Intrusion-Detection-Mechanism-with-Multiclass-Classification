{
 "cells": [
  {
   "cell_type": "code",
   "execution_count": 1,
   "id": "f9eb037b",
   "metadata": {},
   "outputs": [
    {
     "name": "stdout",
     "output_type": "stream",
     "text": [
      "Using device: cuda:0\n",
      "\n",
      "NVIDIA GeForce RTX 2080 SUPER\n",
      "Memory Usage:\n",
      "Allocated: 0.0 GB\n",
      "Cached:    0.0 GB\n"
     ]
    }
   ],
   "source": [
    "import pandas as pd\n",
    "import numpy as np\n",
    "from tqdm.auto import tqdm\n",
    "\n",
    "import torch\n",
    "import torch.autograd as autograd\n",
    "import torch.nn as nn\n",
    "import torch.nn.functional as F\n",
    "import torch.optim as optim\n",
    "from torch.utils.data import Dataset, DataLoader\n",
    "from torchvision.transforms import transforms\n",
    "import pathlib\n",
    "import torchvision\n",
    "from torch.optim.lr_scheduler import ExponentialLR\n",
    "\n",
    "import pytorch_lightning as pl\n",
    "\n",
    "import seaborn as sns\n",
    "from pylab import rcParams\n",
    "import matplotlib.pyplot as plt\n",
    "from matplotlib import rc\n",
    "import matplotlib\n",
    "from matplotlib.ticker import MaxNLocator\n",
    "\n",
    "from pytorch_lightning.callbacks import ModelCheckpoint, EarlyStopping\n",
    "from pytorch_lightning.loggers import TensorBoardLogger\n",
    "from torchmetrics.functional import accuracy\n",
    "\n",
    "from sklearn.metrics import classification_report, confusion_matrix\n",
    "from sklearn.preprocessing import LabelEncoder\n",
    "from sklearn.model_selection import train_test_split\n",
    "\n",
    "import datetime\n",
    "import time\n",
    "import random\n",
    "import os\n",
    "\n",
    "# setting device on GPU if available, else CPU\n",
    "device = torch.device('cuda:0' if torch.cuda.is_available() else 'cpu')\n",
    "print('Using device:', device)\n",
    "print()\n",
    "\n",
    "#Additional Info when using cuda\n",
    "if device.type == 'cuda':\n",
    "    print(torch.cuda.get_device_name(0))\n",
    "    print('Memory Usage:')\n",
    "    print('Allocated:', round(torch.cuda.memory_allocated(0)/1024**3,1), 'GB')\n",
    "    print('Cached:   ', round(torch.cuda.memory_reserved(0)/1024**3,1), 'GB')"
   ]
  },
  {
   "cell_type": "code",
   "execution_count": 2,
   "id": "ec498ca4",
   "metadata": {},
   "outputs": [],
   "source": [
    "import numpy as np\n",
    "import matplotlib.pyplot as plt\n",
    "from os import listdir,makedirs\n",
    "import cv2\n",
    "from tqdm import tqdm\n",
    "\n",
    "DATADIR_Train = \"C:/Users/Lisa/Rezanur/Pytorch/MUL_UNI/img set 3/ResNet RGB_T_Tesla/Train\"\n",
    "DATADIR_Test = \"C:/Users/Lisa/Rezanur/Pytorch/MUL_UNI/img set 3/ResNet RGB_T_Tesla/Test\"\n",
    "DATADIR_Val = \"C:/Users/Lisa/Rezanur/Pytorch/MUL_UNI/img set 3/ResNet RGB_T_Tesla/Val\""
   ]
  },
  {
   "cell_type": "code",
   "execution_count": null,
   "id": "17d7ed70",
   "metadata": {},
   "outputs": [],
   "source": []
  },
  {
   "cell_type": "code",
   "execution_count": 3,
   "id": "a7458435",
   "metadata": {},
   "outputs": [],
   "source": [
    "CATEGORIES_Train = [\"Normal\", \"DoS\", \"Fuzz\", \"Replay\"]\n",
    "CATEGORIES_Test = [\"Normal\", \"DoS\", \"Fuzz\", \"Replay\"]"
   ]
  },
  {
   "cell_type": "code",
   "execution_count": 4,
   "id": "a44df0d9",
   "metadata": {},
   "outputs": [
    {
     "name": "stderr",
     "output_type": "stream",
     "text": [
      "100%|██████████| 7000/7000 [00:14<00:00, 482.96it/s]\n",
      "100%|██████████| 4223/4223 [00:08<00:00, 489.77it/s]\n",
      "100%|██████████| 10000/10000 [00:20<00:00, 480.42it/s]\n",
      "100%|██████████| 1224/1224 [00:02<00:00, 470.98it/s]"
     ]
    },
    {
     "name": "stdout",
     "output_type": "stream",
     "text": [
      "22447\n"
     ]
    },
    {
     "name": "stderr",
     "output_type": "stream",
     "text": [
      "\n"
     ]
    }
   ],
   "source": [
    "training_data = []\n",
    "\n",
    "def create_training_data():\n",
    "    for category in CATEGORIES_Train:  # do dogs and cats\n",
    "\n",
    "        path = os.path.join(DATADIR_Train,category)  # create path attack\n",
    "        class_num = CATEGORIES_Train.index(category)  # get the classification  (0, 1,.... ).\n",
    "\n",
    "        for img in tqdm(os.listdir(path)):  # iterate over each image \n",
    "            try:\n",
    "                img_array = cv2.imread(os.path.join(path,img))  # convert to array\n",
    "                new_array = cv2.resize(img_array, (100, 100))  # resize to normalize data size\n",
    "                new_array = np.transpose(new_array, (2, 0, 1))\n",
    "                training_data.append([new_array, class_num])  # add this to our training_data\n",
    "            except Exception as e:  # in the interest in keeping the output clean...\n",
    "                pass\n",
    "            #except OSError as e:\n",
    "            #    print(\"OSErrroBad img most likely\", e, os.path.join(path,img))\n",
    "            #except Exception as e:\n",
    "            #    print(\"general exception\", e, os.path.join(path,img))\n",
    "\n",
    "create_training_data()\n",
    "\n",
    "print(len(training_data))"
   ]
  },
  {
   "cell_type": "code",
   "execution_count": 5,
   "id": "3c6ec14d",
   "metadata": {},
   "outputs": [
    {
     "name": "stderr",
     "output_type": "stream",
     "text": [
      "100%|██████████| 2000/2000 [00:04<00:00, 473.28it/s]\n",
      "100%|██████████| 3036/3036 [00:06<00:00, 495.89it/s]\n",
      "100%|██████████| 4000/4000 [00:08<00:00, 485.44it/s]\n",
      "100%|██████████| 883/883 [00:01<00:00, 471.40it/s]"
     ]
    },
    {
     "name": "stdout",
     "output_type": "stream",
     "text": [
      "9919\n"
     ]
    },
    {
     "name": "stderr",
     "output_type": "stream",
     "text": [
      "\n"
     ]
    }
   ],
   "source": [
    "testing_data = []\n",
    "\n",
    "def create_training_data():\n",
    "    for category in CATEGORIES_Test:  # do dogs and cats\n",
    "\n",
    "        path = os.path.join(DATADIR_Test,category)  # create path attack\n",
    "        class_num = CATEGORIES_Test.index(category)  # get the classification  (0, 1,.... ).\n",
    "\n",
    "        for img in tqdm(os.listdir(path)):  # iterate over each image \n",
    "            try:\n",
    "                img_array = cv2.imread(os.path.join(path,img))  # convert to array\n",
    "                new_array = cv2.resize(img_array, (100, 100))  # resize to normalize data size\n",
    "                new_array = np.transpose(new_array, (2, 0, 1))\n",
    "                testing_data.append([new_array, class_num])  # add this to our training_data\n",
    "            except Exception as e:  # in the interest in keeping the output clean...\n",
    "                pass\n",
    "            #except OSError as e:\n",
    "            #    print(\"OSErrroBad img most likely\", e, os.path.join(path,img))\n",
    "            #except Exception as e:\n",
    "            #    print(\"general exception\", e, os.path.join(path,img))\n",
    "\n",
    "create_training_data()\n",
    "\n",
    "print(len(testing_data))"
   ]
  },
  {
   "cell_type": "code",
   "execution_count": 6,
   "id": "2e021688",
   "metadata": {},
   "outputs": [
    {
     "name": "stderr",
     "output_type": "stream",
     "text": [
      "100%|██████████| 2300/2300 [00:04<00:00, 470.16it/s]\n",
      "100%|██████████| 3336/3336 [00:06<00:00, 485.09it/s]\n",
      "100%|██████████| 4300/4300 [00:09<00:00, 475.24it/s]\n",
      "100%|██████████| 1183/1183 [00:02<00:00, 457.14it/s]"
     ]
    },
    {
     "name": "stdout",
     "output_type": "stream",
     "text": [
      "9919\n"
     ]
    },
    {
     "name": "stderr",
     "output_type": "stream",
     "text": [
      "\n"
     ]
    }
   ],
   "source": [
    "val_data = []\n",
    "\n",
    "def create_training_data():\n",
    "    for category in CATEGORIES_Test:  # do dogs and cats\n",
    "\n",
    "        path = os.path.join(DATADIR_Val,category)  # create path attack\n",
    "        class_num = CATEGORIES_Test.index(category)  # get the classification  (0, 1,.... ).\n",
    "\n",
    "        for img in tqdm(os.listdir(path)):  # iterate over each image \n",
    "            try:\n",
    "                img_array = cv2.imread(os.path.join(path,img))  # convert to array\n",
    "                new_array = cv2.resize(img_array, (100, 100))  # resize to normalize data size\n",
    "                new_array = np.transpose(new_array, (2, 0, 1))\n",
    "                val_data.append([new_array, class_num])  # add this to our training_data\n",
    "            except Exception as e:  # in the interest in keeping the output clean...\n",
    "                pass\n",
    "            #except OSError as e:\n",
    "            #    print(\"OSErrroBad img most likely\", e, os.path.join(path,img))\n",
    "            #except Exception as e:\n",
    "            #    print(\"general exception\", e, os.path.join(path,img))\n",
    "\n",
    "create_training_data()\n",
    "\n",
    "print(len(testing_data))"
   ]
  },
  {
   "cell_type": "code",
   "execution_count": 7,
   "id": "55f475b4",
   "metadata": {},
   "outputs": [],
   "source": [
    "def set_seed(seed=0):\n",
    "    np.random.seed(seed)\n",
    "    random.seed(seed)\n",
    "    torch.manual_seed(seed)\n",
    "    torch.cuda.manual_seed(seed)\n",
    "    torch.cuda.manual_seed_all(seed)\n",
    "    torch.backends.cudnn.deterministic = True\n",
    "    torch.backends.cudnn.benchmark = False\n",
    "    os.environ['PYTHONHASHSEED'] = str(seed)\n",
    "    \n",
    "set_seed(0)"
   ]
  },
  {
   "cell_type": "code",
   "execution_count": 8,
   "id": "2df4e8a2",
   "metadata": {},
   "outputs": [],
   "source": [
    "class VGG16_NET(nn.Module):\n",
    "    def __init__(self):\n",
    "        super(VGG16_NET, self).__init__()\n",
    "        self.conv1 = nn.Conv2d(in_channels=3, out_channels=64, kernel_size=3, padding=1)\n",
    "        self.conv2 = nn.Conv2d(in_channels=64, out_channels=64, kernel_size=3, padding=1)\n",
    "\n",
    "        self.conv3 = nn.Conv2d(in_channels=64, out_channels=128, kernel_size=3, padding=1)\n",
    "        self.conv4 = nn.Conv2d(in_channels=128, out_channels=128, kernel_size=3, padding=1)\n",
    "\n",
    "        self.conv5 = nn.Conv2d(in_channels=128, out_channels=256, kernel_size=3, padding=1)\n",
    "        self.conv6 = nn.Conv2d(in_channels=256, out_channels=256, kernel_size=3, padding=1)\n",
    "        self.conv7 = nn.Conv2d(in_channels=256, out_channels=256, kernel_size=3, padding=1)\n",
    "\n",
    "        self.conv8 = nn.Conv2d(in_channels=256, out_channels=512, kernel_size=3, padding=1)\n",
    "        self.conv9 = nn.Conv2d(in_channels=512, out_channels=512, kernel_size=3, padding=1)\n",
    "        self.conv10 = nn.Conv2d(in_channels=512, out_channels=512, kernel_size=3, padding=1)\n",
    "\n",
    "        self.conv11 = nn.Conv2d(in_channels=512, out_channels=512, kernel_size=3, padding=1)\n",
    "        self.conv12 = nn.Conv2d(in_channels=512, out_channels=512, kernel_size=3, padding=1)\n",
    "        self.conv13 = nn.Conv2d(in_channels=512, out_channels=512, kernel_size=3, padding=1)\n",
    "\n",
    "        self.maxpool = nn.MaxPool2d(kernel_size=2, stride=2)\n",
    "\n",
    "        self.fc14 = nn.Linear(512 * 3 * 3, 4096)\n",
    "        self.fc15 = nn.Linear(4096, 4096)\n",
    "        self.fc16 = nn.Linear(4096, 4)\n",
    "\n",
    "    def forward(self, x):\n",
    "        x = F.relu(self.conv1(x))\n",
    "        x = F.relu(self.conv2(x))\n",
    "        x = self.maxpool(x)\n",
    "        x = F.relu(self.conv3(x))\n",
    "        x = F.relu(self.conv4(x))\n",
    "        x = self.maxpool(x)\n",
    "        x = F.relu(self.conv5(x))\n",
    "        x = F.relu(self.conv6(x))\n",
    "        x = F.relu(self.conv7(x))\n",
    "        x = self.maxpool(x)\n",
    "        x = F.relu(self.conv8(x))\n",
    "        x = F.relu(self.conv9(x))\n",
    "        x = F.relu(self.conv10(x))\n",
    "        x = self.maxpool(x)\n",
    "        x = F.relu(self.conv11(x))\n",
    "        x = F.relu(self.conv12(x))\n",
    "        x = F.relu(self.conv13(x))\n",
    "        x = self.maxpool(x)\n",
    "        x = x.reshape(x.shape[0], -1)\n",
    "        x = F.relu(self.fc14(x))\n",
    "        x = F.dropout(x, 0.5) #dropout was included to combat overfitting\n",
    "        x = F.relu(self.fc15(x))\n",
    "        x = F.dropout(x, 0.5)\n",
    "        x = self.fc16(x)\n",
    "        return x"
   ]
  },
  {
   "cell_type": "code",
   "execution_count": 9,
   "id": "c04a0a76",
   "metadata": {},
   "outputs": [
    {
     "ename": "NameError",
     "evalue": "name 'train_loader' is not defined",
     "output_type": "error",
     "traceback": [
      "\u001b[1;31m---------------------------------------------------------------------------\u001b[0m",
      "\u001b[1;31mNameError\u001b[0m                                 Traceback (most recent call last)",
      "\u001b[1;32m~\\AppData\\Local\\Temp\\ipykernel_17380\\553835187.py\u001b[0m in \u001b[0;36m<module>\u001b[1;34m\u001b[0m\n\u001b[0;32m      1\u001b[0m \u001b[1;31m# get some random training images\u001b[0m\u001b[1;33m\u001b[0m\u001b[1;33m\u001b[0m\u001b[1;33m\u001b[0m\u001b[0m\n\u001b[1;32m----> 2\u001b[1;33m \u001b[0mdataiter\u001b[0m \u001b[1;33m=\u001b[0m \u001b[0miter\u001b[0m\u001b[1;33m(\u001b[0m\u001b[0mtrain_loader\u001b[0m\u001b[1;33m)\u001b[0m\u001b[1;33m\u001b[0m\u001b[1;33m\u001b[0m\u001b[0m\n\u001b[0m\u001b[0;32m      3\u001b[0m \u001b[0msets\u001b[0m\u001b[1;33m,\u001b[0m \u001b[0mlabels\u001b[0m \u001b[1;33m=\u001b[0m \u001b[0mdataiter\u001b[0m\u001b[1;33m.\u001b[0m\u001b[0mnext\u001b[0m\u001b[1;33m(\u001b[0m\u001b[1;33m)\u001b[0m\u001b[1;33m\u001b[0m\u001b[1;33m\u001b[0m\u001b[0m\n\u001b[0;32m      4\u001b[0m \u001b[0msets\u001b[0m \u001b[1;33m=\u001b[0m \u001b[0msets\u001b[0m\u001b[1;33m.\u001b[0m\u001b[0mfloat\u001b[0m\u001b[1;33m(\u001b[0m\u001b[1;33m)\u001b[0m\u001b[1;33m\u001b[0m\u001b[1;33m\u001b[0m\u001b[0m\n\u001b[0;32m      5\u001b[0m \u001b[0mlabels\u001b[0m \u001b[1;33m=\u001b[0m \u001b[0mlabels\u001b[0m\u001b[1;33m.\u001b[0m\u001b[0mtype\u001b[0m\u001b[1;33m(\u001b[0m\u001b[0mtorch\u001b[0m\u001b[1;33m.\u001b[0m\u001b[0mLongTensor\u001b[0m\u001b[1;33m)\u001b[0m\u001b[1;33m\u001b[0m\u001b[1;33m\u001b[0m\u001b[0m\n",
      "\u001b[1;31mNameError\u001b[0m: name 'train_loader' is not defined"
     ]
    }
   ],
   "source": [
    "# get some random training images\n",
    "dataiter = iter(train_loader)\n",
    "sets, labels = dataiter.next()\n",
    "sets = sets.float()\n",
    "labels = labels.type(torch.LongTensor)\n",
    "\n",
    "print(sets[0].shape)\n",
    "print(sets[0].ndim)\n",
    "\n",
    "print(sets.shape)\n",
    "print(sets.ndim)"
   ]
  },
  {
   "cell_type": "code",
   "execution_count": null,
   "id": "f4e7463f",
   "metadata": {},
   "outputs": [],
   "source": [
    "net = VGG16_NET()"
   ]
  },
  {
   "cell_type": "code",
   "execution_count": null,
   "id": "20d52ab4",
   "metadata": {},
   "outputs": [],
   "source": [
    "# Load model and data in same device\n",
    "model = net.to(device)\n",
    "sets = sets.to(device)"
   ]
  },
  {
   "cell_type": "code",
   "execution_count": null,
   "id": "979dda62",
   "metadata": {},
   "outputs": [],
   "source": [
    "# Label 1 data shape\n",
    "output1 = model.conv1(sets)\n",
    "output1.shape"
   ]
  },
  {
   "cell_type": "code",
   "execution_count": null,
   "id": "5c660972",
   "metadata": {},
   "outputs": [],
   "source": [
    "# Label 1 data shape\n",
    "output2 = model.conv2(output1)\n",
    "output2.shape"
   ]
  },
  {
   "cell_type": "code",
   "execution_count": null,
   "id": "d93aaf39",
   "metadata": {},
   "outputs": [],
   "source": [
    "# Label 1 data shape\n",
    "output3 = model.maxpool(output2)\n",
    "output3.shape"
   ]
  },
  {
   "cell_type": "code",
   "execution_count": null,
   "id": "f5b21916",
   "metadata": {},
   "outputs": [],
   "source": [
    "# Label 1 data shape\n",
    "output4 = model.conv3(output3)\n",
    "output4.shape"
   ]
  },
  {
   "cell_type": "code",
   "execution_count": null,
   "id": "69a7460c",
   "metadata": {},
   "outputs": [],
   "source": [
    "# Label 1 data shape\n",
    "output5 = model.conv4(output4)\n",
    "output5.shape"
   ]
  },
  {
   "cell_type": "code",
   "execution_count": null,
   "id": "65bca6a1",
   "metadata": {},
   "outputs": [],
   "source": [
    "# Label 1 data shape\n",
    "output6 = model.maxpool(output5)\n",
    "output6.shape"
   ]
  },
  {
   "cell_type": "code",
   "execution_count": null,
   "id": "87b38678",
   "metadata": {},
   "outputs": [],
   "source": [
    "# Label 1 data shape\n",
    "output7 = model.conv5(output6)\n",
    "output7.shape"
   ]
  },
  {
   "cell_type": "code",
   "execution_count": null,
   "id": "2c09f7f8",
   "metadata": {},
   "outputs": [],
   "source": [
    "# Label 1 data shape\n",
    "output8 = model.conv6(output7)\n",
    "output8.shape"
   ]
  },
  {
   "cell_type": "code",
   "execution_count": null,
   "id": "5063da31",
   "metadata": {},
   "outputs": [],
   "source": [
    "# Label 1 data shape\n",
    "output9 = model.conv7(output8)\n",
    "output9.shape"
   ]
  },
  {
   "cell_type": "code",
   "execution_count": null,
   "id": "2180c881",
   "metadata": {},
   "outputs": [],
   "source": [
    "# Label 1 data shape\n",
    "output10 = model.maxpool(output9)\n",
    "output10.shape"
   ]
  },
  {
   "cell_type": "code",
   "execution_count": null,
   "id": "aabdbc6a",
   "metadata": {},
   "outputs": [],
   "source": [
    "# Label 1 data shape\n",
    "output11 = model.conv8(output10)\n",
    "output11.shape"
   ]
  },
  {
   "cell_type": "code",
   "execution_count": null,
   "id": "ea9406bc",
   "metadata": {},
   "outputs": [],
   "source": [
    "# Label 1 data shape\n",
    "output12 = model.conv9(output11)\n",
    "output12.shape"
   ]
  },
  {
   "cell_type": "code",
   "execution_count": null,
   "id": "effdc1b7",
   "metadata": {},
   "outputs": [],
   "source": [
    "# Label 1 data shape\n",
    "output13 = model.conv10(output12)\n",
    "output13.shape"
   ]
  },
  {
   "cell_type": "code",
   "execution_count": null,
   "id": "54dcc684",
   "metadata": {},
   "outputs": [],
   "source": [
    "# Label 1 data shape\n",
    "output14 = model.maxpool(output13)\n",
    "output14.shape"
   ]
  },
  {
   "cell_type": "code",
   "execution_count": null,
   "id": "b05f9623",
   "metadata": {},
   "outputs": [],
   "source": [
    "# Label 1 data shape\n",
    "output15 = model.conv11(output14)\n",
    "output15.shape"
   ]
  },
  {
   "cell_type": "code",
   "execution_count": null,
   "id": "7517c739",
   "metadata": {},
   "outputs": [],
   "source": [
    "# Label 1 data shape\n",
    "output16 = model.conv12(output15)\n",
    "output16.shape"
   ]
  },
  {
   "cell_type": "code",
   "execution_count": null,
   "id": "3af5656c",
   "metadata": {},
   "outputs": [],
   "source": [
    "# Label 1 data shape\n",
    "output17 = model.conv13(output16)\n",
    "output17.shape"
   ]
  },
  {
   "cell_type": "code",
   "execution_count": null,
   "id": "72ca9e21",
   "metadata": {},
   "outputs": [],
   "source": [
    "# Label 1 data shape\n",
    "output18 = model.maxpool(output17)\n",
    "output18.shape"
   ]
  },
  {
   "cell_type": "code",
   "execution_count": null,
   "id": "4c2c114d",
   "metadata": {},
   "outputs": [],
   "source": []
  },
  {
   "cell_type": "code",
   "execution_count": null,
   "id": "21632bf2",
   "metadata": {},
   "outputs": [],
   "source": []
  },
  {
   "cell_type": "code",
   "execution_count": 10,
   "id": "78aba78b",
   "metadata": {},
   "outputs": [],
   "source": [
    "class EarlyStopping:\n",
    "    def __init__(self, mode, path, patience=3, delta=0):\n",
    "        if mode not in {'min', 'max'}:\n",
    "            raise ValueError(\"Argument mode must be one of 'min' or 'max'.\")\n",
    "        if patience <= 0:\n",
    "            raise ValueError(\"Argument patience must be a postive integer.\")\n",
    "        if delta < 0:\n",
    "            raise ValueError(\"Argument delta must not be a negative number.\")\n",
    "            \n",
    "        self.mode = mode\n",
    "        self.patience = patience\n",
    "        self.delta = delta\n",
    "        self.path = path\n",
    "        self.best_score = np.inf if mode == 'min' else -np.inf\n",
    "        self.counter = 0\n",
    "        \n",
    "    def _is_improvement(self, val_score):\n",
    "        \"\"\"Return True iff val_score is better than self.best_score.\"\"\"\n",
    "        if self.mode == 'max' and val_score > self.best_score + self.delta:\n",
    "            return True\n",
    "        elif self.mode == 'min' and val_score < self.best_score - self.delta:\n",
    "            return True\n",
    "        return False\n",
    "        \n",
    "    def __call__(self, val_score, model):\n",
    "        \"\"\"Return True iff self.counter >= self.patience.\n",
    "        \"\"\"\n",
    "        \n",
    "        if self._is_improvement(val_score):\n",
    "            self.best_score = val_score\n",
    "            self.counter = 0\n",
    "            torch.save(model.state_dict(), self.path)\n",
    "            print('Val loss improved. Saved model.')\n",
    "            return False\n",
    "        else:\n",
    "            self.counter += 1\n",
    "            print(f'Early stopping counter: {self.counter}/{self.patience}')\n",
    "            if self.counter >= self.patience:\n",
    "                print(f'Stopped early. Best val loss: {self.best_score:.4f}')\n",
    "                return True"
   ]
  },
  {
   "cell_type": "code",
   "execution_count": 11,
   "id": "fc7060b6",
   "metadata": {},
   "outputs": [],
   "source": [
    "def train_one_epoch(model, train_loader, optimizer, device, criterion):\n",
    "    \"\"\"Train model for one epoch and return the mean train_loss.\"\"\"\n",
    "    model.train()\n",
    "    running_loss_train = 0\n",
    "    for inputs, labels in train_loader:\n",
    "        labels = labels.type(torch.LongTensor)\n",
    "        inputs = inputs.type(torch.cuda.FloatTensor)\n",
    "        #labels = labels.type(torch.cuda.FloatTensor)\n",
    "        inputs, labels = inputs.to(device=device), labels.to(device=device)\n",
    "        optimizer.zero_grad()\n",
    "        outputs = model(inputs)\n",
    "        loss = criterion(outputs, labels)\n",
    "        loss.backward()\n",
    "        optimizer.step()\n",
    "        running_loss_train += loss.item()\n",
    "    train_loss = running_loss_train / len(train_loader.dataset)\n",
    "    return train_loss"
   ]
  },
  {
   "cell_type": "code",
   "execution_count": 12,
   "id": "da9592e5",
   "metadata": {},
   "outputs": [],
   "source": [
    "def validate(model, valid_loader, device, criterion):\n",
    "    \"\"\"Validate model and return the accuracy and mean loss.\"\"\"\n",
    "    model.eval()\n",
    "    correct = 0\n",
    "    running_loss_val = 0\n",
    "    with torch.no_grad():\n",
    "        for inputs, labels in valid_loader:\n",
    "            labels = labels.type(torch.LongTensor)\n",
    "            inputs = inputs.type(torch.cuda.FloatTensor)\n",
    "            #labels = labels.type(torch.cuda.FloatTensor)\n",
    "            inputs, labels = inputs.to(device=device), labels.to(device=device)\n",
    "            outputs = model(inputs)\n",
    "            loss = criterion(outputs, labels)\n",
    "            pred = outputs.argmax(dim=1)\n",
    "            correct += pred.eq(labels).sum().item()\n",
    "            running_loss_val += loss.item()\n",
    "    val_acc = correct / len(valid_loader.dataset)\n",
    "    val_loss = running_loss_val / len(valid_loader.dataset)\n",
    "    return val_acc, val_loss"
   ]
  },
  {
   "cell_type": "code",
   "execution_count": 13,
   "id": "2033ee52",
   "metadata": {},
   "outputs": [],
   "source": [
    "def fit(model, train_loader, valid_loader, learning_rate, num_epochs):\n",
    "    criterion = nn.CrossEntropyLoss(reduction='sum')\n",
    "    optimizer = optim.Adam(model.parameters(), lr=learning_rate)\n",
    "    es = EarlyStopping(mode='min', path='./VGG_Adam_T_Tesla_1.pth', patience=10)\n",
    "    model = model.to(device)\n",
    "    scheduler = ExponentialLR(optimizer, gamma=0.1)\n",
    "\n",
    "    for epoch in range(1, num_epochs + 1):\n",
    "        train_loss = train_one_epoch(model, train_loader, optimizer, device, criterion)\n",
    "        val_acc, val_loss = validate(model, valid_loader, device, criterion)\n",
    "        scheduler.step()\n",
    "        print(f'Epoch {epoch:2}/{num_epochs}',\n",
    "              f'train loss: {train_loss:.4f}',\n",
    "              f'val loss: {val_loss:.4f}',\n",
    "              f'val acc: {val_acc:.2%}',\n",
    "              sep=' | '\n",
    "             )\n",
    "        if es(val_loss, model):\n",
    "            break"
   ]
  },
  {
   "cell_type": "code",
   "execution_count": 49,
   "id": "756151f7",
   "metadata": {},
   "outputs": [
    {
     "name": "stdout",
     "output_type": "stream",
     "text": [
      "Epoch  1/50 | train loss: 0.8271 | val loss: 0.8488 | val acc: 63.06%\n",
      "Val loss improved. Saved model.\n",
      "Epoch  2/50 | train loss: 0.1876 | val loss: 0.3785 | val acc: 88.43%\n",
      "Val loss improved. Saved model.\n",
      "Epoch  3/50 | train loss: 0.1084 | val loss: 0.3313 | val acc: 89.85%\n",
      "Val loss improved. Saved model.\n",
      "Epoch  4/50 | train loss: 0.1044 | val loss: 0.3431 | val acc: 89.54%\n",
      "Early stopping counter: 1/10\n",
      "Epoch  5/50 | train loss: 0.1024 | val loss: 0.3401 | val acc: 89.52%\n",
      "Early stopping counter: 2/10\n",
      "Epoch  6/50 | train loss: 0.1029 | val loss: 0.3381 | val acc: 89.42%\n",
      "Early stopping counter: 3/10\n",
      "Epoch  7/50 | train loss: 0.1023 | val loss: 0.3393 | val acc: 89.44%\n",
      "Early stopping counter: 4/10\n",
      "Epoch  8/50 | train loss: 0.1037 | val loss: 0.3417 | val acc: 89.53%\n",
      "Early stopping counter: 5/10\n",
      "Epoch  9/50 | train loss: 0.1025 | val loss: 0.3401 | val acc: 89.48%\n",
      "Early stopping counter: 6/10\n",
      "Epoch 10/50 | train loss: 0.1043 | val loss: 0.3375 | val acc: 89.62%\n",
      "Early stopping counter: 7/10\n",
      "Epoch 11/50 | train loss: 0.1027 | val loss: 0.3378 | val acc: 89.64%\n",
      "Early stopping counter: 8/10\n",
      "Epoch 12/50 | train loss: 0.1034 | val loss: 0.3373 | val acc: 89.59%\n",
      "Early stopping counter: 9/10\n",
      "Epoch 13/50 | train loss: 0.1020 | val loss: 0.3428 | val acc: 89.56%\n",
      "Early stopping counter: 10/10\n",
      "Stopped early. Best val loss: 0.3313\n",
      "Total training time: 907.741286277771\n"
     ]
    },
    {
     "data": {
      "text/plain": [
       "<All keys matched successfully>"
      ]
     },
     "execution_count": 49,
     "metadata": {},
     "output_type": "execute_result"
    }
   ],
   "source": [
    "TRAIN_BATCH_SIZE = 64\n",
    "VALID_BATCH_SIZE = 32\n",
    "NUM_EPOCHS = 50\n",
    "LEARNING_RATE = 1e-3\n",
    "NUM_WORKERS = 0\n",
    "PIN_MEMORY = False\n",
    "\n",
    "train_loader = torch.utils.data.DataLoader(training_data, batch_size=TRAIN_BATCH_SIZE, shuffle=True, num_workers=NUM_WORKERS, pin_memory=PIN_MEMORY)\n",
    "valid_loader = torch.utils.data.DataLoader(val_data, batch_size=VALID_BATCH_SIZE, shuffle=True, num_workers=NUM_WORKERS, pin_memory=PIN_MEMORY)\n",
    "\n",
    "\n",
    "model = VGG16_NET().to(device)\n",
    "start = time.time()\n",
    "fit(model, train_loader, valid_loader, learning_rate=LEARNING_RATE, num_epochs=NUM_EPOCHS)\n",
    "print(f'Total training time: {time.time() - start}')\n",
    "model.load_state_dict(torch.load('VGG_Adam_T_Tesla_1.pth'))"
   ]
  },
  {
   "cell_type": "code",
   "execution_count": 15,
   "id": "c5342ba0",
   "metadata": {},
   "outputs": [
    {
     "data": {
      "text/plain": [
       "VGG16_NET(\n",
       "  (conv1): Conv2d(3, 64, kernel_size=(3, 3), stride=(1, 1), padding=(1, 1))\n",
       "  (conv2): Conv2d(64, 64, kernel_size=(3, 3), stride=(1, 1), padding=(1, 1))\n",
       "  (conv3): Conv2d(64, 128, kernel_size=(3, 3), stride=(1, 1), padding=(1, 1))\n",
       "  (conv4): Conv2d(128, 128, kernel_size=(3, 3), stride=(1, 1), padding=(1, 1))\n",
       "  (conv5): Conv2d(128, 256, kernel_size=(3, 3), stride=(1, 1), padding=(1, 1))\n",
       "  (conv6): Conv2d(256, 256, kernel_size=(3, 3), stride=(1, 1), padding=(1, 1))\n",
       "  (conv7): Conv2d(256, 256, kernel_size=(3, 3), stride=(1, 1), padding=(1, 1))\n",
       "  (conv8): Conv2d(256, 512, kernel_size=(3, 3), stride=(1, 1), padding=(1, 1))\n",
       "  (conv9): Conv2d(512, 512, kernel_size=(3, 3), stride=(1, 1), padding=(1, 1))\n",
       "  (conv10): Conv2d(512, 512, kernel_size=(3, 3), stride=(1, 1), padding=(1, 1))\n",
       "  (conv11): Conv2d(512, 512, kernel_size=(3, 3), stride=(1, 1), padding=(1, 1))\n",
       "  (conv12): Conv2d(512, 512, kernel_size=(3, 3), stride=(1, 1), padding=(1, 1))\n",
       "  (conv13): Conv2d(512, 512, kernel_size=(3, 3), stride=(1, 1), padding=(1, 1))\n",
       "  (maxpool): MaxPool2d(kernel_size=2, stride=2, padding=0, dilation=1, ceil_mode=False)\n",
       "  (fc14): Linear(in_features=4608, out_features=4096, bias=True)\n",
       "  (fc15): Linear(in_features=4096, out_features=4096, bias=True)\n",
       "  (fc16): Linear(in_features=4096, out_features=4, bias=True)\n",
       ")"
      ]
     },
     "execution_count": 15,
     "metadata": {},
     "output_type": "execute_result"
    }
   ],
   "source": [
    "# Load\n",
    "TRAIN_BATCH_SIZE = 64\n",
    "VALID_BATCH_SIZE = 32\n",
    "NUM_EPOCHS = 50\n",
    "LEARNING_RATE = 1e-3\n",
    "NUM_WORKERS = 0\n",
    "PIN_MEMORY = False\n",
    "\n",
    "test_loader = torch.utils.data.DataLoader(testing_data, batch_size=VALID_BATCH_SIZE, shuffle=True, num_workers=NUM_WORKERS, pin_memory=PIN_MEMORY)\n",
    "\n",
    "model = VGG16_NET()\n",
    "model.load_state_dict(torch.load('C:/Users/Lisa/Rezanur/Pytorch/MUL_UNI/img set 3/VGG RGB_T_Tesla/VGG_Adam_T_Tesla.pth'))\n",
    "model.eval()"
   ]
  },
  {
   "cell_type": "code",
   "execution_count": 16,
   "id": "7b885583",
   "metadata": {},
   "outputs": [],
   "source": [
    "def get_prediction(model, dataloader):\n",
    "    with torch.no_grad():\n",
    "        model = model.to(device)\n",
    "        model.eval()\n",
    "        prediction = np.zeros(len(dataloader.dataset))\n",
    "        labels = np.zeros(len(dataloader.dataset))\n",
    "        k = 0\n",
    "        for images, target in dataloader:\n",
    "            if device:\n",
    "                images = images.type(torch.cuda.FloatTensor)\n",
    "            prediction[k:k+len(images)] = np.argmax(model(images).data.cpu().numpy(), axis=1)\n",
    "            labels[k:k+len(images)] = target.numpy()\n",
    "            k += len(images)\n",
    "    return prediction, labels"
   ]
  },
  {
   "cell_type": "code",
   "execution_count": 17,
   "id": "377ca5a6",
   "metadata": {},
   "outputs": [],
   "source": [
    "pred = get_prediction(model, test_loader)\n",
    "y_pred = pred[0]\n",
    "y_test = pred[1]"
   ]
  },
  {
   "cell_type": "code",
   "execution_count": 18,
   "id": "63be705a",
   "metadata": {},
   "outputs": [
    {
     "name": "stdout",
     "output_type": "stream",
     "text": [
      "[[1859    0  141    0]\n",
      " [   0 3036    0    0]\n",
      " [  10   17 3969    4]\n",
      " [ 649    0   74  160]]\n"
     ]
    }
   ],
   "source": [
    "from sklearn.metrics import confusion_matrix\n",
    "\n",
    "#Get the confusion matrix\n",
    "cf_matrix = confusion_matrix(y_test, y_pred)\n",
    "\n",
    "print(cf_matrix)"
   ]
  },
  {
   "cell_type": "code",
   "execution_count": 19,
   "id": "322f3533",
   "metadata": {},
   "outputs": [
    {
     "data": {
      "image/png": "[encoded data removed]",
      "text/plain": [
       "<Figure size 1080x936 with 1 Axes>"
      ]
     },
     "metadata": {},
     "output_type": "display_data"
    }
   ],
   "source": [
    "#group_names = ['True Neg','False Pos','False Neg','True Pos','True Pos','True Pos','True Pos','True Pos','True Pos']\n",
    "\n",
    "group_counts = [\"{0:0.0f}\".format(value) for value in\n",
    "                cf_matrix.flatten()]\n",
    "\n",
    "group_percentages = [\"{0:.2%}\".format(value) for value in\n",
    "                     cf_matrix.flatten()/np.sum(cf_matrix)]\n",
    "\n",
    "labels = [f\"{v1}\\n{v2}\\n\" for v1, v2 in\n",
    "          zip(group_counts,group_percentages)]\n",
    "\n",
    "labels = np.asarray(labels).reshape(4,4)\n",
    "sns.set(rc={'figure.figsize':(15,13)})\n",
    "sns.set(font_scale=1.8) #edited as suggested\n",
    "ax = sns.heatmap(cf_matrix, annot=labels, fmt='', cmap='Blues', cbar=False)\n",
    "\n",
    "\n",
    "ax.set_xlabel('\\nActual Category ', fontname=\"Times New Roman\", size=22,fontweight=\"bold\")\n",
    "ax.set_ylabel('Predicted Category \\n', fontname=\"Times New Roman\", size=22,fontweight=\"bold\");\n",
    "#ax.text(0.30, 4.65, Confusion Matrix CNN Multiclass Classification',fontsize=25,fontweight=\"bold\")\n",
    "\n",
    "## Ticket labels - List must be in alphabetical order\n",
    "ax.xaxis.set_ticklabels([\"Normal\", \"DoS\", \"Fuzz\", \"Replay\"],fontweight=\"bold\", fontname=\"Times New Roman\", size=18)\n",
    "ax.yaxis.set_ticklabels([\"Normal\", \"DoS\", \"Fuzz\", \"Replay\"],fontweight=\"bold\", fontname=\"Times New Roman\", size=18)\n",
    "ax.xaxis.label.set_color('darkblue')\n",
    "ax.yaxis.label.set_color('darkblue')\n",
    "## Display the visualization of the Confusion Matrix.\n",
    "plt.show()"
   ]
  },
  {
   "cell_type": "code",
   "execution_count": 20,
   "id": "bb522f46",
   "metadata": {},
   "outputs": [
    {
     "name": "stdout",
     "output_type": "stream",
     "text": [
      "              precision    recall  f1-score   support\n",
      "\n",
      "      Normal       0.74      0.93      0.82      2000\n",
      "         DoS       0.99      1.00      1.00      3036\n",
      "        Fuzz       0.95      0.99      0.97      4000\n",
      "      Replay       0.98      0.18      0.31       883\n",
      "\n",
      "    accuracy                           0.91      9919\n",
      "   macro avg       0.91      0.78      0.77      9919\n",
      "weighted avg       0.92      0.91      0.89      9919\n",
      "\n"
     ]
    }
   ],
   "source": [
    "from sklearn.metrics import classification_report\n",
    "class_names = [\"Normal\", \"DoS\", \"Fuzz\", \"Replay\"]\n",
    "print(classification_report(y_test, y_pred, target_names=class_names))"
   ]
  },
  {
   "cell_type": "code",
   "execution_count": 21,
   "id": "f38567fd",
   "metadata": {},
   "outputs": [
    {
     "name": "stdout",
     "output_type": "stream",
     "text": [
      "ROC AUC score: 0.8725620805855929\n"
     ]
    },
    {
     "data": {
      "text/plain": [
       "<matplotlib.legend.Legend at 0x1b85f6da448>"
      ]
     },
     "execution_count": 21,
     "metadata": {},
     "output_type": "execute_result"
    },
    {
     "data": {
      "image/png": "[encoded data removed]",
      "text/plain": [
       "<Figure size 1080x720 with 1 Axes>"
      ]
     },
     "metadata": {},
     "output_type": "display_data"
    }
   ],
   "source": [
    "import matplotlib.pyplot as plt \n",
    "from sklearn.preprocessing import LabelBinarizer\n",
    "from sklearn.metrics import roc_curve, auc, roc_auc_score\n",
    "\n",
    "\n",
    "target= [\"Normal\", \"DoS\", \"Fuzz\", \"Replay\"]\n",
    "\n",
    "# set plot figure size\n",
    "fig, c_ax = plt.subplots(1,1, figsize = (15, 10))\n",
    "sns.set(font_scale=1.5) #edited as suggested\n",
    "\n",
    "# function for scoring roc auc score for multi-class\n",
    "def multiclass_roc_auc_score(y_test, y_pred, average=\"macro\"):\n",
    "    lb = LabelBinarizer()\n",
    "    lb.fit(y_test)\n",
    "    y_test = lb.transform(y_test)\n",
    "    y_pred = lb.transform(y_pred)\n",
    "\n",
    "    for (idx, c_label) in enumerate(target):\n",
    "        fpr, tpr, thresholds = roc_curve(y_test[:,idx].astype(int), y_pred[:,idx])\n",
    "        c_ax.plot(fpr, tpr, label = '%s (AUC:%0.2f)'  % (c_label, auc(fpr, tpr)))\n",
    "    c_ax.plot(fpr, fpr, 'b-', label = 'Random Guessing')\n",
    "    return roc_auc_score(y_test, y_pred, average=average)\n",
    "\n",
    "\n",
    "print('ROC AUC score:', multiclass_roc_auc_score(y_test, y_pred))\n",
    "\n",
    "c_ax.set_xlabel('False Positive Rate(TPR)', fontname=\"Times New Roman\", size=18, fontweight=\"bold\", color='darkblue')\n",
    "c_ax.set_ylabel('True Positive Rate (FPR)', fontname=\"Times New Roman\", size=18, fontweight=\"bold\", color='darkblue')\n",
    "#c_ax.text(0.16, -0.22, 'Fig. 6. (c) RUC Score CNN Multiclass Class Classification', fontname=\"Times New Roman\",fontsize=25,fontweight=\"bold\")\n",
    "c_ax.legend(loc=\"lower right\")"
   ]
  },
  {
   "cell_type": "code",
   "execution_count": null,
   "id": "5ef1790c",
   "metadata": {},
   "outputs": [],
   "source": []
  },
  {
   "cell_type": "code",
   "execution_count": null,
   "id": "824f61d7",
   "metadata": {},
   "outputs": [],
   "source": []
  },
  {
   "cell_type": "code",
   "execution_count": null,
   "id": "0b78b632",
   "metadata": {},
   "outputs": [],
   "source": []
  }
 ],
 "metadata": {
  "kernelspec": {
   "display_name": "Pytorch",
   "language": "python",
   "name": "pytorch"
  },
  "language_info": {
   "codemirror_mode": {
    "name": "ipython",
    "version": 3
   },
   "file_extension": ".py",
   "mimetype": "text/x-python",
   "name": "python",
   "nbconvert_exporter": "python",
   "pygments_lexer": "ipython3",
   "version": "3.7.13"
  }
 },
 "nbformat": 4,
 "nbformat_minor": 5
}
